{
  "nbformat": 4,
  "nbformat_minor": 0,
  "metadata": {
    "colab": {
      "provenance": []
    },
    "kernelspec": {
      "name": "python3",
      "display_name": "Python 3"
    },
    "language_info": {
      "name": "python"
    }
  },
  "cells": [
    {
      "cell_type": "code",
      "execution_count": 3,
      "metadata": {
        "colab": {
          "base_uri": "https://localhost:8080/"
        },
        "id": "ysBMaspPpFwc",
        "outputId": "341b4d76-beb8-4ec8-f7ec-5cfbf274c4b1"
      },
      "outputs": [
        {
          "output_type": "stream",
          "name": "stdout",
          "text": [
            "Enter the message: tejutejuteju\n",
            "Compressed message: tejutejuteju\n"
          ]
        }
      ],
      "source": [
        "def compress_message(msg):\n",
        "\n",
        "  compressed_msg = \"\"\n",
        "  prev_char = \"\"\n",
        "  count = 1\n",
        "\n",
        "  for char in msg:\n",
        "    if char == prev_char:\n",
        "      count += 1\n",
        "    else:\n",
        "      if count > 1:\n",
        "        compressed_msg += f\"{prev_char}{count}\"\n",
        "      else:\n",
        "        compressed_msg += prev_char\n",
        "      count = 1\n",
        "    prev_char = char\n",
        "\n",
        "  if count > 1:\n",
        "    compressed_msg += f\"{prev_char}{count}\"\n",
        "  else:\n",
        "    compressed_msg += prev_char\n",
        "\n",
        "  return compressed_msg\n",
        "\n",
        "\n",
        "def main():\n",
        "  msg = input(\"Enter the message: \")\n",
        "  compressed_msg = compress_message(msg)\n",
        "  print(f\"Compressed message: {compressed_msg}\")\n",
        "\n",
        "\n",
        "if __name__ == \"__main__\":\n",
        "  main()"
      ]
    }
  ]
}